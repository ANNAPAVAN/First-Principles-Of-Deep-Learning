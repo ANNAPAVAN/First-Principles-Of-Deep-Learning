{
  "nbformat": 4,
  "nbformat_minor": 0,
  "metadata": {
    "colab": {
      "provenance": [],
      "gpuType": "T4",
      "authorship_tag": "ABX9TyNKfj02/x+AL3rLqI2u7IsD"
    },
    "kernelspec": {
      "name": "python3",
      "display_name": "Python 3"
    },
    "language_info": {
      "name": "python"
    },
    "accelerator": "GPU"
  },
  "cells": [
    {
      "cell_type": "code",
      "execution_count": null,
      "metadata": {
        "id": "Y9JF9xlN2ADS"
      },
      "outputs": [],
      "source": [
        "import numpy as np\n",
        "from numpy import ndarray\n",
        "from typing import List"
      ]
    },
    {
      "cell_type": "markdown",
      "source": [
        "The typing module provides runtime support for type hints. It includes many useful types, such as List, Dict, Tuple, etc.\n",
        "\n",
        ">\n",
        "\n"
      ],
      "metadata": {
        "id": "pJBvux8a2lto"
      }
    },
    {
      "cell_type": "code",
      "source": [
        "def assert_same_shape(array: ndarray,\n",
        "                      array_grad: ndarray):\n",
        "    assert array.shape == array_grad.shape, \\\n",
        "        '''\n",
        "        Two ndarrays should have the same shape;\n",
        "        instead, first ndarray's shape is {0}\n",
        "        and second ndarray's shape is {1}.\n",
        "        '''.format(tuple(array_grad.shape), tuple(array.shape))\n",
        "    return None\n"
      ],
      "metadata": {
        "id": "NSZ-IRDH2GH-"
      },
      "execution_count": null,
      "outputs": []
    },
    {
      "cell_type": "markdown",
      "source": [
        "The function **assert_same_shape** is designed to check that two NumPy arrays (array and array_grad) have the same shape. If they do not, it raises an assertion error with a detailed message."
      ],
      "metadata": {
        "id": "Z8swebO024Fx"
      }
    },
    {
      "cell_type": "markdown",
      "source": [
        "**Operation and ParamOperation**"
      ],
      "metadata": {
        "id": "Xthstz7k3J5y"
      }
    },
    {
      "cell_type": "code",
      "source": [
        "class Operation(object):\n",
        "    '''\n",
        "    Base class for an \"operation\" in a neural network.\n",
        "    '''\n",
        "    def __init__(self):\n",
        "        pass\n",
        "\n",
        "    def forward(self, input_: ndarray):\n",
        "        '''\n",
        "        Stores input in the self._input instance variable\n",
        "        Calls the self._output() function.\n",
        "        '''\n",
        "        self.input_ = input_\n",
        "\n",
        "        self.output = self._output()\n",
        "\n",
        "        return self.output\n",
        "\n",
        "\n",
        "    def backward(self, output_grad: ndarray) -> ndarray:\n",
        "        '''\n",
        "        Calls the self._input_grad() function.\n",
        "        Checks that the appropriate shapes match.\n",
        "        '''\n",
        "        assert_same_shape(self.output, output_grad)\n",
        "\n",
        "        self.input_grad = self._input_grad(output_grad)\n",
        "\n",
        "        assert_same_shape(self.input_, self.input_grad)\n",
        "        return self.input_grad\n",
        "\n",
        "\n",
        "    def _output(self) -> ndarray:\n",
        "        '''\n",
        "        The _output method must be defined for each Operation\n",
        "        '''\n",
        "        raise NotImplementedError()\n",
        "\n",
        "\n",
        "    def _input_grad(self, output_grad: ndarray) -> ndarray:\n",
        "        '''\n",
        "        The _input_grad method must be defined for each Operation\n",
        "        '''\n",
        "        raise NotImplementedError()"
      ],
      "metadata": {
        "id": "0FmeVTuX25ye"
      },
      "execution_count": null,
      "outputs": []
    },
    {
      "cell_type": "code",
      "source": [
        "class ParamOperation(Operation):\n",
        "    '''\n",
        "    An Operation with parameters.\n",
        "    '''\n",
        "\n",
        "    def __init__(self, param: ndarray) -> ndarray:\n",
        "        '''\n",
        "        The ParamOperation method\n",
        "        '''\n",
        "        super().__init__()\n",
        "        self.param = param\n",
        "\n",
        "    def backward(self, output_grad: ndarray) -> ndarray:\n",
        "        '''\n",
        "        Calls self._input_grad and self._param_grad.\n",
        "        Checks appropriate shapes.\n",
        "        '''\n",
        "\n",
        "        assert_same_shape(self.output, output_grad)\n",
        "\n",
        "        self.input_grad = self._input_grad(output_grad)\n",
        "        self.param_grad = self._param_grad(output_grad)\n",
        "\n",
        "        assert_same_shape(self.input_, self.input_grad)\n",
        "        assert_same_shape(self.param, self.param_grad)\n",
        "\n",
        "        return self.input_grad\n",
        "\n",
        "    def _param_grad(self, output_grad: ndarray) -> ndarray:\n",
        "        '''\n",
        "        Every subclass of ParamOperation must implement _param_grad.\n",
        "        '''\n",
        "        raise NotImplementedError()"
      ],
      "metadata": {
        "id": "HgEBWZrl3SsR"
      },
      "execution_count": null,
      "outputs": []
    },
    {
      "cell_type": "markdown",
      "source": [
        "**Specific Operations**"
      ],
      "metadata": {
        "id": "Wscxkdod8G6l"
      }
    },
    {
      "cell_type": "code",
      "source": [
        "class WeightMultiply(ParamOperation):\n",
        "    '''\n",
        "    Weight multiplication operation for a neural network.\n",
        "    '''\n",
        "\n",
        "    def __init__(self, W: ndarray):\n",
        "        '''\n",
        "        Initialize Operation with self.param = W.\n",
        "        '''\n",
        "        super().__init__(W)\n",
        "\n",
        "    def _output(self) -> ndarray:\n",
        "        '''\n",
        "        Compute output.\n",
        "        '''\n",
        "        return np.dot(self.input_, self.param)\n",
        "\n",
        "    def _input_grad(self, output_grad: ndarray) -> ndarray:\n",
        "        '''\n",
        "        Compute input gradient.\n",
        "        '''\n",
        "        return np.dot(output_grad, np.transpose(self.param, (1, 0)))\n",
        "\n",
        "    def _param_grad(self, output_grad: ndarray)  -> ndarray:\n",
        "        '''\n",
        "        Compute parameter gradient.\n",
        "        '''\n",
        "        return np.dot(np.transpose(self.input_, (1, 0)), output_grad)"
      ],
      "metadata": {
        "id": "MR0CtPD_3raF"
      },
      "execution_count": null,
      "outputs": []
    },
    {
      "cell_type": "code",
      "source": [
        "import numpy as np\n",
        "\n",
        "# Define an example input and weights\n",
        "input_data = np.array([[1, 2], [3, 4]])\n",
        "weights = np.array([[0.1, 0.2], [0.3, 0.4]])\n",
        "\n",
        "# Create an instance of WeightMultiply\n",
        "weight_multiply = WeightMultiply(weights)\n",
        "\n",
        "# Perform the forward pass\n",
        "output = weight_multiply.forward(input_data)\n",
        "print(\"Output of forward pass:\\n\", output)\n",
        "\n",
        "# Assume some gradient from the next layer or loss function\n",
        "output_grad = np.array([[1, 1], [1, 1]])\n",
        "\n",
        "# Perform the backward pass\n",
        "input_grad = weight_multiply.backward(output_grad)\n",
        "param_grad = weight_multiply.param_grad\n",
        "\n",
        "print(\"Gradient wrt input:\\n\", input_grad)\n",
        "print(\"Gradient wrt parameters:\\n\", param_grad)\n"
      ],
      "metadata": {
        "colab": {
          "base_uri": "https://localhost:8080/"
        },
        "id": "lcKO7x7u8VHN",
        "outputId": "3ce9af34-9ddc-4e2a-ad32-0ecee8f4c053"
      },
      "execution_count": null,
      "outputs": [
        {
          "output_type": "stream",
          "name": "stdout",
          "text": [
            "Output of forward pass:\n",
            " [[0.7 1. ]\n",
            " [1.5 2.2]]\n",
            "Gradient wrt input:\n",
            " [[0.3 0.7]\n",
            " [0.3 0.7]]\n",
            "Gradient wrt parameters:\n",
            " [[4 4]\n",
            " [6 6]]\n"
          ]
        }
      ]
    },
    {
      "cell_type": "code",
      "source": [
        "a = np.array([[1,2],[1,3]])\n",
        "b = np.array([[1,1],[1,1]])\n",
        "a.dot(b)"
      ],
      "metadata": {
        "colab": {
          "base_uri": "https://localhost:8080/"
        },
        "id": "ANx64IXr-Wpo",
        "outputId": "0bab56a1-6db6-4f70-bad8-d44b58a4ba6e"
      },
      "execution_count": null,
      "outputs": [
        {
          "output_type": "execute_result",
          "data": {
            "text/plain": [
              "array([[3, 3],\n",
              "       [4, 4]])"
            ]
          },
          "metadata": {},
          "execution_count": 102
        }
      ]
    },
    {
      "cell_type": "code",
      "source": [
        "class BiasAdd(ParamOperation):\n",
        "    '''\n",
        "    Compute bias addition.\n",
        "    '''\n",
        "\n",
        "    def __init__(self,\n",
        "                 B: ndarray):\n",
        "        '''\n",
        "        Initialize Operation with self.param = B.\n",
        "        Check appropriate shape.\n",
        "        '''\n",
        "        assert B.shape[0] == 1\n",
        "\n",
        "        super().__init__(B)\n",
        "\n",
        "    def _output(self) -> ndarray:\n",
        "        '''\n",
        "        Compute output.\n",
        "        '''\n",
        "        return self.input_ + self.param\n",
        "\n",
        "    def _input_grad(self, output_grad: ndarray) -> ndarray:\n",
        "        '''\n",
        "        Compute input gradient.\n",
        "        '''\n",
        "        return np.ones_like(self.input_) * output_grad\n",
        "\n",
        "    def _param_grad(self, output_grad: ndarray) -> ndarray:\n",
        "        '''\n",
        "        Compute parameter gradient.\n",
        "        '''\n",
        "        param_grad = np.ones_like(self.param) * output_grad\n",
        "        return np.sum(param_grad, axis=0).reshape(1, param_grad.shape[1])"
      ],
      "metadata": {
        "id": "E-9q8eTKGX2R"
      },
      "execution_count": null,
      "outputs": []
    },
    {
      "cell_type": "code",
      "source": [
        "# Example input data\n",
        "X = np.array([[1, 2, 3],\n",
        "              [4, 5, 6]])\n",
        "\n",
        "# Example bias vector\n",
        "bias = np.array([[0.1, 0.2, 0.3]])\n",
        "\n",
        "# Create an instance of BiasAdd\n",
        "bias_add = BiasAdd(bias)\n",
        "\n",
        "# Perform the forward pass\n",
        "output = bias_add.forward(X)\n",
        "print(\"Output after bias addition:\\n\", output)\n",
        "\n",
        "# Assume some gradient from the next layer or loss function\n",
        "output_grad = np.array([[1, 1, 1],\n",
        "                        [1, 1, 1]])\n",
        "\n",
        "# Perform the backward pass\n",
        "input_grad = bias_add.backward(output_grad)\n",
        "param_grad = bias_add.param_grad\n",
        "\n",
        "print(\"Gradient wrt input:\\n\", input_grad)\n",
        "print(\"Gradient wrt bias parameters:\\n\", param_grad)\n"
      ],
      "metadata": {
        "colab": {
          "base_uri": "https://localhost:8080/"
        },
        "id": "IjF9VQvrHY1L",
        "outputId": "1ace8de2-3a2f-4f3d-bae5-9a5c8f13463d"
      },
      "execution_count": null,
      "outputs": [
        {
          "output_type": "stream",
          "name": "stdout",
          "text": [
            "Output after bias addition:\n",
            " [[1.1 2.2 3.3]\n",
            " [4.1 5.2 6.3]]\n",
            "Gradient wrt input:\n",
            " [[1 1 1]\n",
            " [1 1 1]]\n",
            "Gradient wrt bias parameters:\n",
            " [[2. 2. 2.]]\n"
          ]
        }
      ]
    },
    {
      "cell_type": "code",
      "source": [
        "class Sigmoid(Operation):\n",
        "    '''\n",
        "    Sigmoid activation function.\n",
        "    '''\n",
        "\n",
        "    def __init__(self) -> None:\n",
        "        '''Pass'''\n",
        "        super().__init__()\n",
        "\n",
        "    def _output(self) -> ndarray:\n",
        "        '''\n",
        "        Compute output.\n",
        "        '''\n",
        "        return 1.0/(1.0+np.exp(-1.0 * self.input_))\n",
        "\n",
        "    def _input_grad(self, output_grad: ndarray) -> ndarray:\n",
        "        '''\n",
        "        Compute input gradient.\n",
        "        '''\n",
        "        sigmoid_backward = self.output * (1.0 - self.output)\n",
        "        input_grad = sigmoid_backward * output_grad\n",
        "        return input_grad"
      ],
      "metadata": {
        "id": "RI_UnfeAHtTO"
      },
      "execution_count": null,
      "outputs": []
    },
    {
      "cell_type": "code",
      "source": [
        "class Tanh(Operation):\n",
        "    '''\n",
        "    Tanh activation function.\n",
        "    '''\n",
        "\n",
        "    def __init__(self) -> None:\n",
        "        '''Pass'''\n",
        "        super().__init__()\n",
        "\n",
        "    def _output(self) -> ndarray:\n",
        "        '''\n",
        "        Compute output.\n",
        "        '''\n",
        "        return np.tanh(self.input_)\n",
        "\n",
        "    def _input_grad(self, output_grad: ndarray) -> ndarray:\n",
        "        '''\n",
        "        Compute input gradient.\n",
        "        '''\n",
        "        tanh_backward = 1.0 - np.power(self.output, 2)\n",
        "        input_grad = tanh_backward * output_grad\n",
        "        return input_grad\n"
      ],
      "metadata": {
        "id": "dAWh4fFHHHBo"
      },
      "execution_count": null,
      "outputs": []
    },
    {
      "cell_type": "code",
      "source": [
        "class Linear(Operation):\n",
        "    '''\n",
        "    \"Identity\" activation function\n",
        "    '''\n",
        "\n",
        "    def __init__(self) -> None:\n",
        "        '''Pass'''\n",
        "        super().__init__()\n",
        "\n",
        "    def _output(self) -> ndarray:\n",
        "        '''Pass through'''\n",
        "        return self.input_\n",
        "\n",
        "    def _input_grad(self, output_grad: ndarray) -> ndarray:\n",
        "        '''Pass through'''\n",
        "        return output_grad"
      ],
      "metadata": {
        "id": "KjTJ0R6QKP8p"
      },
      "execution_count": null,
      "outputs": []
    },
    {
      "cell_type": "markdown",
      "source": [
        "**Layer and Dense**"
      ],
      "metadata": {
        "id": "XnMyC_-lKa-l"
      }
    },
    {
      "cell_type": "code",
      "source": [
        "class Layer(object):\n",
        "    '''\n",
        "    A \"layer\" of neurons in a neural network.\n",
        "    '''\n",
        "\n",
        "    def __init__(self,\n",
        "                 neurons: int):\n",
        "        '''\n",
        "        The number of \"neurons\" roughly corresponds to the \"breadth\" of the layer\n",
        "        '''\n",
        "        self.neurons = neurons\n",
        "        self.first = True\n",
        "        self.params: List[ndarray] = []\n",
        "        self.param_grads: List[ndarray] = []\n",
        "        self.operations: List[Operation] = []\n",
        "\n",
        "    def _setup_layer(self, num_in: int) -> None:\n",
        "        '''\n",
        "        The _setup_layer function must be implemented for each layer\n",
        "        '''\n",
        "        raise NotImplementedError()\n",
        "\n",
        "    def forward(self, input_: ndarray) -> ndarray:\n",
        "        '''\n",
        "        Passes input forward through a series of operations\n",
        "        '''\n",
        "        if self.first:\n",
        "            self._setup_layer(input_)\n",
        "            self.first = False\n",
        "\n",
        "        self.input_ = input_\n",
        "\n",
        "        for operation in self.operations:\n",
        "\n",
        "            input_ = operation.forward(input_)\n",
        "\n",
        "        self.output = input_\n",
        "\n",
        "        return self.output\n",
        "    def backward(self, output_grad: ndarray) -> ndarray:\n",
        "        '''\n",
        "        Passes output_grad backward through a series of operations\n",
        "        Checks appropriate shapes\n",
        "        '''\n",
        "\n",
        "        assert_same_shape(self.output, output_grad)\n",
        "\n",
        "        for operation in reversed(self.operations):\n",
        "            output_grad = operation.backward(output_grad)\n",
        "\n",
        "        input_grad = output_grad\n",
        "\n",
        "        self._param_grads()\n",
        "\n",
        "        return input_grad\n",
        "\n",
        "    def _param_grads(self) -> ndarray:\n",
        "        '''\n",
        "        Extracts the _param_grads from a layer's operations\n",
        "        '''\n",
        "\n",
        "        self.param_grads = []\n",
        "        for operation in self.operations:\n",
        "            if issubclass(operation.__class__, ParamOperation):\n",
        "                self.param_grads.append(operation.param_grad)\n",
        "\n",
        "    def _params(self) -> ndarray:\n",
        "        '''\n",
        "        Extracts the _params from a layer's operations\n",
        "        '''\n",
        "\n",
        "        self.params = []\n",
        "        for operation in self.operations:\n",
        "            if issubclass(operation.__class__, ParamOperation):\n",
        "                self.params.append(operation.param)"
      ],
      "metadata": {
        "id": "-Xv5UkMxKYq9"
      },
      "execution_count": null,
      "outputs": []
    },
    {
      "cell_type": "code",
      "source": [
        "class Dense(Layer):\n",
        "    '''\n",
        "    A fully connected layer which inherits from \"Layer\"\n",
        "    '''\n",
        "    def __init__(self,\n",
        "                 neurons: int,\n",
        "                 activation: Operation = Sigmoid()):\n",
        "        '''\n",
        "        Requires an activation function upon initialization\n",
        "        '''\n",
        "        super().__init__(neurons)\n",
        "        self.activation = activation\n",
        "\n",
        "    def _setup_layer(self, input_: ndarray) -> None:\n",
        "        '''\n",
        "        Defines the operations of a fully connected layer.\n",
        "        '''\n",
        "        if self.seed:\n",
        "            np.random.seed(self.seed)\n",
        "\n",
        "        self.params = []\n",
        "\n",
        "        # weights\n",
        "        self.params.append(np.random.randn(input_.shape[1], self.neurons))\n",
        "\n",
        "        # bias\n",
        "        self.params.append(np.random.randn(1, self.neurons))\n",
        "\n",
        "        self.operations = [WeightMultiply(self.params[0]),\n",
        "                           BiasAdd(self.params[1]),\n",
        "                           self.activation]\n",
        "\n",
        "        return None"
      ],
      "metadata": {
        "id": "eOYAlT2RKrck"
      },
      "execution_count": null,
      "outputs": []
    },
    {
      "cell_type": "markdown",
      "source": [
        "**Loss and MeanSquaredError**"
      ],
      "metadata": {
        "id": "l_hAgUbcPAnd"
      }
    },
    {
      "cell_type": "code",
      "source": [
        "class Loss(object):\n",
        "    '''\n",
        "    The \"loss\" of a neural network\n",
        "    '''\n",
        "\n",
        "    def __init__(self):\n",
        "        '''Pass'''\n",
        "        pass\n",
        "\n",
        "    def forward(self, prediction: ndarray, target: ndarray) -> float:\n",
        "        '''\n",
        "        Computes the actual loss value\n",
        "        '''\n",
        "        assert_same_shape(prediction, target)\n",
        "\n",
        "        self.prediction = prediction\n",
        "        self.target = target\n",
        "\n",
        "        loss_value = self._output()\n",
        "\n",
        "        return loss_value\n",
        "\n",
        "    def backward(self) -> ndarray:\n",
        "        '''\n",
        "        Computes gradient of the loss value with respect to the input to the loss function\n",
        "        '''\n",
        "        self.input_grad = self._input_grad()\n",
        "\n",
        "        assert_same_shape(self.prediction, self.input_grad)\n",
        "\n",
        "        return self.input_grad\n",
        "\n",
        "    def _output(self) -> float:\n",
        "        '''\n",
        "        Every subclass of \"Loss\" must implement the _output function.\n",
        "        '''\n",
        "        raise NotImplementedError()\n",
        "    def _input_grad(self) -> ndarray:\n",
        "        '''\n",
        "        Every subclass of \"Loss\" must implement the _input_grad function.\n",
        "        '''\n",
        "        raise NotImplementedError()"
      ],
      "metadata": {
        "id": "cZyavaS1PBoT"
      },
      "execution_count": null,
      "outputs": []
    },
    {
      "cell_type": "code",
      "source": [
        "class MeanSquaredError(Loss):\n",
        "\n",
        "    def __init__(self) -> None:\n",
        "        '''Pass'''\n",
        "        super().__init__()\n",
        "\n",
        "    def _output(self) -> float:\n",
        "        '''\n",
        "        Computes the per-observation squared error loss\n",
        "        '''\n",
        "        loss = (\n",
        "            np.sum(np.power(self.prediction - self.target, 2)) /\n",
        "            self.prediction.shape[0]\n",
        "        )\n",
        "\n",
        "        return loss\n",
        "\n",
        "    def _input_grad(self) -> ndarray:\n",
        "        '''\n",
        "        Computes the loss gradient with respect to the input for MSE loss\n",
        "        '''\n",
        "\n",
        "        return 2.0 * (self.prediction - self.target) / self.prediction.shape[0]"
      ],
      "metadata": {
        "id": "d4fcWBGTPOZW"
      },
      "execution_count": null,
      "outputs": []
    },
    {
      "cell_type": "markdown",
      "source": [
        "**Neural Network**"
      ],
      "metadata": {
        "id": "PScqIdy4Pet-"
      }
    },
    {
      "cell_type": "code",
      "source": [
        "class NeuralNetwork(object):\n",
        "    '''\n",
        "    The class for a neural network.\n",
        "    '''\n",
        "    def __init__(self,\n",
        "                 layers: List[Layer],\n",
        "                 loss: Loss,\n",
        "                 seed: int = 1) -> None:\n",
        "        '''\n",
        "        Neural networks need layers, and a loss.\n",
        "        '''\n",
        "        self.layers = layers\n",
        "        self.loss = loss\n",
        "        self.seed = seed\n",
        "        if seed:\n",
        "            for layer in self.layers:\n",
        "                setattr(layer, \"seed\", self.seed)\n",
        "\n",
        "    def forward(self, x_batch: ndarray) -> ndarray:\n",
        "        '''\n",
        "        Passes data forward through a series of layers.\n",
        "        '''\n",
        "        x_out = x_batch\n",
        "        for layer in self.layers:\n",
        "            x_out = layer.forward(x_out)\n",
        "\n",
        "        return x_out\n",
        "    def backward(self, loss_grad: ndarray) -> None:\n",
        "        '''\n",
        "        Passes data backward through a series of layers.\n",
        "        '''\n",
        "\n",
        "        grad = loss_grad\n",
        "        for layer in reversed(self.layers):\n",
        "            grad = layer.backward(grad)\n",
        "\n",
        "        return None\n",
        "\n",
        "    def train_batch(self,\n",
        "                    x_batch: ndarray,\n",
        "                    y_batch: ndarray) -> float:\n",
        "        '''\n",
        "        Passes data forward through the layers.\n",
        "        Computes the loss.\n",
        "        Passes data backward through the layers.\n",
        "        '''\n",
        "\n",
        "        predictions = self.forward(x_batch)\n",
        "\n",
        "        loss = self.loss.forward(predictions, y_batch)\n",
        "\n",
        "        self.backward(self.loss.backward())\n",
        "\n",
        "        return loss\n",
        "    def params(self):\n",
        "        '''\n",
        "        Gets the parameters for the network.\n",
        "        '''\n",
        "        for layer in self.layers:\n",
        "            yield from layer.params\n",
        "\n",
        "    def param_grads(self):\n",
        "        '''\n",
        "        Gets the gradient of the loss with respect to the parameters for the network.\n",
        "        '''\n",
        "        for layer in self.layers:\n",
        "            yield from layer.param_grads"
      ],
      "metadata": {
        "id": "f0hUpi-APQZi"
      },
      "execution_count": null,
      "outputs": []
    },
    {
      "cell_type": "markdown",
      "source": [
        "**Optimizer and SGD**"
      ],
      "metadata": {
        "id": "7tPH4nzVtPxq"
      }
    },
    {
      "cell_type": "code",
      "source": [
        "class Optimizer(object):\n",
        "    '''\n",
        "    Base class for a neural network optimizer.\n",
        "    '''\n",
        "    def __init__(self,\n",
        "                 lr: float = 0.01):\n",
        "        '''\n",
        "        Every optimizer must have an initial learning rate.\n",
        "        '''\n",
        "        self.lr = lr\n",
        "\n",
        "    def step(self) -> None:\n",
        "        '''\n",
        "        Every optimizer must implement the \"step\" function.\n",
        "        '''\n",
        "        pass"
      ],
      "metadata": {
        "id": "UZ7nyjtcqNft"
      },
      "execution_count": null,
      "outputs": []
    },
    {
      "cell_type": "code",
      "source": [
        "class SGD(Optimizer):\n",
        "    '''\n",
        "    Stochasitc gradient descent optimizer.\n",
        "    '''\n",
        "    def __init__(self,\n",
        "                 lr: float = 0.01) -> None:\n",
        "        '''Pass'''\n",
        "        super().__init__(lr)\n",
        "\n",
        "    def step(self):\n",
        "        '''\n",
        "        For each parameter, adjust in the appropriate direction, with the magnitude of the adjustment\n",
        "        based on the learning rate.\n",
        "        '''\n",
        "        for (param, param_grad) in zip(self.net.params(),\n",
        "                                       self.net.param_grads()):\n",
        "\n",
        "            param -= self.lr * param_grad"
      ],
      "metadata": {
        "id": "FsiiEV44tV5o"
      },
      "execution_count": null,
      "outputs": []
    },
    {
      "cell_type": "markdown",
      "source": [
        "**Trainer**"
      ],
      "metadata": {
        "id": "thf5a5W-thKD"
      }
    },
    {
      "cell_type": "code",
      "source": [
        "from copy import deepcopy\n",
        "from typing import Tuple\n",
        "\n",
        "class Trainer(object):\n",
        "    '''\n",
        "    Trains a neural network\n",
        "    '''\n",
        "    def __init__(self,\n",
        "                 net: NeuralNetwork,\n",
        "                 optim: Optimizer) -> None:\n",
        "        '''\n",
        "        Requires a neural network and an optimizer in order for training to occur.\n",
        "        Assign the neural network as an instance variable to the optimizer.\n",
        "        '''\n",
        "        self.net = net\n",
        "        self.optim = optim\n",
        "        self.best_loss = 1e9\n",
        "        setattr(self.optim, 'net', self.net)\n",
        "    def generate_batches(self,\n",
        "                         X: ndarray,\n",
        "                         y: ndarray,\n",
        "                         size: int = 32) -> Tuple[ndarray]:\n",
        "        '''\n",
        "        Generates batches for training\n",
        "        '''\n",
        "        assert X.shape[0] == y.shape[0], \\\n",
        "        '''\n",
        "        features and target must have the same number of rows, instead\n",
        "        features has {0} and target has {1}\n",
        "        '''.format(X.shape[0], y.shape[0])\n",
        "\n",
        "        N = X.shape[0]\n",
        "\n",
        "        for ii in range(0, N, size):\n",
        "            X_batch, y_batch = X[ii:ii+size], y[ii:ii+size]\n",
        "\n",
        "            yield X_batch, y_batch\n",
        "\n",
        "    def fit(self, X_train: ndarray, y_train: ndarray,\n",
        "            X_test: ndarray, y_test: ndarray,\n",
        "            epochs: int=100,\n",
        "            eval_every: int=10,\n",
        "            batch_size: int=32,\n",
        "            seed: int = 1,\n",
        "            restart: bool = True)-> None:\n",
        "        '''\n",
        "        Fits the neural network on the training data for a certain number of epochs.\n",
        "        Every \"eval_every\" epochs, it evaluated the neural network on the testing data.\n",
        "        '''\n",
        "\n",
        "        np.random.seed(seed)\n",
        "        if restart:\n",
        "            for layer in self.net.layers:\n",
        "                layer.first = True\n",
        "\n",
        "            self.best_loss = 1e9\n",
        "        for e in range(epochs):\n",
        "\n",
        "            if (e+1) % eval_every == 0:\n",
        "\n",
        "                # for early stopping\n",
        "                last_model = deepcopy(self.net)\n",
        "\n",
        "            X_train, y_train = permute_data(X_train, y_train)\n",
        "\n",
        "            batch_generator = self.generate_batches(X_train, y_train,\n",
        "                                                    batch_size)\n",
        "\n",
        "            for ii, (X_batch, y_batch) in enumerate(batch_generator):\n",
        "\n",
        "                self.net.train_batch(X_batch, y_batch)\n",
        "\n",
        "                self.optim.step()\n",
        "\n",
        "            if (e+1) % eval_every == 0:\n",
        "\n",
        "                test_preds = self.net.forward(X_test)\n",
        "                loss = self.net.loss.forward(test_preds, y_test)\n",
        "\n",
        "                if loss < self.best_loss:\n",
        "                    print(f\"Validation loss after {e+1} epochs is {loss:.3f}\")\n",
        "                    self.best_loss = loss\n",
        "                else:\n",
        "                    print(f\"\"\"Loss increased after epoch {e+1}, final loss was {self.best_loss:.3f}, using the model from epoch {e+1-eval_every}\"\"\")\n",
        "                    self.net = last_model\n",
        "                    # ensure self.optim is still updating self.net\n",
        "                    setattr(self.optim, 'net', self.net)\n",
        "                    break"
      ],
      "metadata": {
        "id": "3fOFnp7FtXij"
      },
      "execution_count": null,
      "outputs": []
    },
    {
      "cell_type": "markdown",
      "source": [
        "**Evaluation Metrics**"
      ],
      "metadata": {
        "id": "gS9rS_v7t1yP"
      }
    },
    {
      "cell_type": "code",
      "source": [
        "def mae(y_true: ndarray, y_pred: ndarray):\n",
        "    '''\n",
        "    Compute mean absolute error for a neural network.\n",
        "    '''\n",
        "    return np.mean(np.abs(y_true - y_pred))\n",
        "\n",
        "def rmse(y_true: ndarray, y_pred: ndarray):\n",
        "    '''\n",
        "    Compute root mean squared error for a neural network.\n",
        "    '''\n",
        "    return np.sqrt(np.mean(np.power(y_true - y_pred, 2)))\n",
        "\n",
        "def eval_regression_model(model: NeuralNetwork,\n",
        "                          X_test: ndarray,\n",
        "                          y_test: ndarray):\n",
        "    '''\n",
        "    Compute mae and rmse for a neural network.\n",
        "    '''\n",
        "    preds = model.forward(X_test)\n",
        "    preds = preds.reshape(-1, 1)\n",
        "    print(\"Mean absolute error: {:.2f}\".format(mae(preds, y_test)))\n",
        "    print()\n",
        "    print(\"Root mean squared error {:.2f}\".format(rmse(preds, y_test)))"
      ],
      "metadata": {
        "id": "NAArzS_jt0QE"
      },
      "execution_count": null,
      "outputs": []
    },
    {
      "cell_type": "code",
      "source": [
        "lr = NeuralNetwork(\n",
        "    layers=[Dense(neurons=1,\n",
        "                   activation=Linear())],\n",
        "    loss=MeanSquaredError(),\n",
        "    seed=20190501\n",
        ")\n",
        "\n",
        "nn = NeuralNetwork(\n",
        "    layers=[Dense(neurons=13,\n",
        "                   activation=Sigmoid()),\n",
        "            Dense(neurons=1,\n",
        "                   activation=Linear())],\n",
        "    loss=MeanSquaredError(),\n",
        "    seed=20190501\n",
        ")\n",
        "\n",
        "dl = NeuralNetwork(\n",
        "    layers=[Dense(neurons=13,\n",
        "                   activation=Sigmoid()),\n",
        "            Dense(neurons=13,\n",
        "                   activation=Sigmoid()),\n",
        "            Dense(neurons=1,\n",
        "                   activation=Linear())],\n",
        "    loss=MeanSquaredError(),\n",
        "    seed=20190501\n",
        ")"
      ],
      "metadata": {
        "id": "PsrLxrWBt6gg"
      },
      "execution_count": null,
      "outputs": []
    },
    {
      "cell_type": "markdown",
      "source": [
        "**Read in the data, train-test split etc.**"
      ],
      "metadata": {
        "id": "QW9_vHWYuHeF"
      }
    },
    {
      "cell_type": "code",
      "source": [
        "from sklearn.datasets import fetch_california_housing\n",
        "california = fetch_california_housing()\n",
        "data = california.data\n",
        "target = california.target\n",
        "features = california.feature_names"
      ],
      "metadata": {
        "id": "44BEV3ICt88s"
      },
      "execution_count": null,
      "outputs": []
    },
    {
      "cell_type": "code",
      "source": [
        "\n",
        "# Scaling the data\n",
        "from sklearn.preprocessing import StandardScaler\n",
        "s = StandardScaler()\n",
        "data = s.fit_transform(data)"
      ],
      "metadata": {
        "id": "Ki1rUF_5uQid"
      },
      "execution_count": null,
      "outputs": []
    },
    {
      "cell_type": "code",
      "source": [
        "def to_2d_np(a: ndarray,\n",
        "          type: str=\"col\") -> ndarray:\n",
        "    '''\n",
        "    Turns a 1D Tensor into 2D\n",
        "    '''\n",
        "\n",
        "    assert a.ndim == 1, \\\n",
        "    \"Input tensors must be 1 dimensional\"\n",
        "\n",
        "    if type == \"col\":\n",
        "        return a.reshape(-1, 1)\n",
        "    elif type == \"row\":\n",
        "        return a.reshape(1, -1)"
      ],
      "metadata": {
        "id": "CEoB6PlJuSr9"
      },
      "execution_count": null,
      "outputs": []
    },
    {
      "cell_type": "code",
      "source": [
        "from sklearn.model_selection import train_test_split\n",
        "X_train, X_test, y_train, y_test = train_test_split(data, target, test_size=0.3, random_state=80718)\n",
        "\n",
        "# make target 2d array\n",
        "y_train, y_test = to_2d_np(y_train), to_2d_np(y_test)"
      ],
      "metadata": {
        "id": "iU7OWPsxuUoF"
      },
      "execution_count": null,
      "outputs": []
    },
    {
      "cell_type": "code",
      "source": [
        "# helper function\n",
        "\n",
        "def permute_data(X, y):\n",
        "    perm = np.random.permutation(X.shape[0])\n",
        "    return X[perm], y[perm]"
      ],
      "metadata": {
        "id": "eCHge-n2uWx2"
      },
      "execution_count": null,
      "outputs": []
    },
    {
      "cell_type": "markdown",
      "source": [
        "**Train the three models**"
      ],
      "metadata": {
        "id": "RImN5RRYvU49"
      }
    },
    {
      "cell_type": "code",
      "source": [
        "trainer = Trainer(lr, SGD(lr=0.001))\n",
        "\n",
        "trainer.fit(X_train, y_train, X_test, y_test,\n",
        "       epochs = 50,\n",
        "       eval_every = 10,\n",
        "       seed=20190501);\n",
        "print()\n",
        "eval_regression_model(lr, X_test, y_test)"
      ],
      "metadata": {
        "colab": {
          "base_uri": "https://localhost:8080/"
        },
        "id": "b2ypn2kyuatk",
        "outputId": "07b48253-193b-4592-874d-eaec43b708ce"
      },
      "execution_count": null,
      "outputs": [
        {
          "output_type": "stream",
          "name": "stdout",
          "text": [
            "Validation loss after 10 epochs is 0.604\n",
            "Validation loss after 20 epochs is 0.541\n",
            "Validation loss after 30 epochs is 0.525\n",
            "Validation loss after 40 epochs is 0.518\n",
            "Validation loss after 50 epochs is 0.515\n",
            "\n",
            "Mean absolute error: 0.53\n",
            "\n",
            "Root mean squared error 0.72\n"
          ]
        }
      ]
    },
    {
      "cell_type": "code",
      "source": [
        "trainer = Trainer(nn, SGD(lr=0.01))\n",
        "\n",
        "trainer.fit(X_train, y_train, X_test, y_test,\n",
        "       epochs = 50,\n",
        "       eval_every = 10,\n",
        "       seed=20190501);\n",
        "print()\n",
        "eval_regression_model(nn, X_test, y_test)"
      ],
      "metadata": {
        "colab": {
          "base_uri": "https://localhost:8080/"
        },
        "id": "K3X2gb3eu435",
        "outputId": "71b68b58-987a-46d4-dcde-1c4f94f0b348"
      },
      "execution_count": null,
      "outputs": [
        {
          "output_type": "stream",
          "name": "stdout",
          "text": [
            "Validation loss after 10 epochs is 0.489\n",
            "Validation loss after 20 epochs is 0.459\n",
            "Validation loss after 30 epochs is 0.438\n",
            "Validation loss after 40 epochs is 0.416\n",
            "Validation loss after 50 epochs is 0.402\n",
            "\n",
            "Mean absolute error: 0.46\n",
            "\n",
            "Root mean squared error 0.63\n"
          ]
        }
      ]
    },
    {
      "cell_type": "code",
      "source": [
        "trainer = Trainer(dl, SGD(lr=0.001))\n",
        "\n",
        "trainer.fit(X_train, y_train, X_test, y_test,\n",
        "       epochs = 50,\n",
        "       eval_every = 10,\n",
        "       seed=20190501);\n",
        "print()\n",
        "eval_regression_model(dl, X_test, y_test)"
      ],
      "metadata": {
        "colab": {
          "base_uri": "https://localhost:8080/"
        },
        "id": "R86dljycudIx",
        "outputId": "a7deee33-3e0b-4c65-d4ba-00cbe9ba4949"
      },
      "execution_count": null,
      "outputs": [
        {
          "output_type": "stream",
          "name": "stdout",
          "text": [
            "Validation loss after 10 epochs is 1.014\n",
            "Validation loss after 20 epochs is 0.808\n",
            "Validation loss after 30 epochs is 0.697\n",
            "Validation loss after 40 epochs is 0.631\n",
            "Validation loss after 50 epochs is 0.584\n",
            "\n",
            "Mean absolute error: 0.58\n",
            "\n",
            "Root mean squared error 0.76\n"
          ]
        }
      ]
    },
    {
      "cell_type": "code",
      "source": [],
      "metadata": {
        "id": "zzXlNchSINBA"
      },
      "execution_count": null,
      "outputs": []
    },
    {
      "cell_type": "code",
      "source": [],
      "metadata": {
        "id": "yEaMxQLvIHbA"
      },
      "execution_count": null,
      "outputs": []
    }
  ]
}