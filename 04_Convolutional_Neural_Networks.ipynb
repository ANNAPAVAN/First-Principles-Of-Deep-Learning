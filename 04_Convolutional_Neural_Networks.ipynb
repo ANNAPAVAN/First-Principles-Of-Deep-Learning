{
  "nbformat": 4,
  "nbformat_minor": 0,
  "metadata": {
    "colab": {
      "provenance": [],
      "authorship_tag": "ABX9TyPt04ylbTF/PuniGnDxCi/+"
    },
    "kernelspec": {
      "name": "python3",
      "display_name": "Python 3"
    },
    "language_info": {
      "name": "python"
    }
  },
  "cells": [
    {
      "cell_type": "code",
      "source": [
        "import numpy as np\n",
        "from numpy import ndarray"
      ],
      "metadata": {
        "id": "Y0ISPf48Vy7u"
      },
      "execution_count": null,
      "outputs": []
    },
    {
      "cell_type": "markdown",
      "source": [
        "**Helter functions**"
      ],
      "metadata": {
        "id": "Q86GQ6lqa3P4"
      }
    },
    {
      "cell_type": "code",
      "source": [
        "def assert_same_shape(output: ndarray,\n",
        "                      output_grad: ndarray):\n",
        "    assert output.shape == output_grad.shape, \\\n",
        "    '''\n",
        "    Two ndarray should have the same shape; instead, first ndarray's shape is {0}\n",
        "    and second ndarray's shape is {1}.\n",
        "    '''.format(tuple(output_grad.shape), tuple(output.shape))\n",
        "    return None"
      ],
      "metadata": {
        "id": "pKgz24WXa1rO"
      },
      "execution_count": null,
      "outputs": []
    },
    {
      "cell_type": "code",
      "source": [
        "def assert_dim(t: ndarray,\n",
        "               dim: ndarray):\n",
        "    assert len(t.shape) == dim, \\\n",
        "    '''\n",
        "    Tensor expected to have dimension {0}, instead has dimension {1}\n",
        "    '''.format(dim, len(t.shape))\n",
        "    return None"
      ],
      "metadata": {
        "id": "vaESfNrea8Tx"
      },
      "execution_count": null,
      "outputs": []
    },
    {
      "cell_type": "markdown",
      "source": [
        "**1D Convolution** : 1 input 1 output"
      ],
      "metadata": {
        "id": "kB_Ecoaja_tl"
      }
    },
    {
      "cell_type": "markdown",
      "source": [
        "**Padding**"
      ],
      "metadata": {
        "id": "Wjhv-B9kbJiS"
      }
    },
    {
      "cell_type": "code",
      "source": [
        "input_1d = np.array([1,2,3,4,5])\n",
        "param_1d = np.array([1,1,1])"
      ],
      "metadata": {
        "id": "BvyzzAUXa-Lv"
      },
      "execution_count": null,
      "outputs": []
    },
    {
      "cell_type": "code",
      "source": [
        "\n",
        "def _pad_1d(inp: ndarray,\n",
        "            num: int) -> ndarray:\n",
        "    z = np.array([0])\n",
        "    z = np.repeat(z, num)\n",
        "    # print(z)\n",
        "    return np.concatenate([z, inp, z])"
      ],
      "metadata": {
        "id": "cj7dPuXtbOZ6"
      },
      "execution_count": null,
      "outputs": []
    },
    {
      "cell_type": "code",
      "source": [
        "_pad_1d(input_1d, 1)"
      ],
      "metadata": {
        "colab": {
          "base_uri": "https://localhost:8080/"
        },
        "id": "x21mMEl-bP_k",
        "outputId": "5fc46398-6bbb-49cf-a98b-35b90176b2e0"
      },
      "execution_count": null,
      "outputs": [
        {
          "output_type": "execute_result",
          "data": {
            "text/plain": [
              "array([0, 1, 2, 3, 4, 5, 0])"
            ]
          },
          "metadata": {},
          "execution_count": 6
        }
      ]
    },
    {
      "cell_type": "markdown",
      "source": [
        "**Forward Pass**"
      ],
      "metadata": {
        "id": "KBruLEmzbd-U"
      }
    },
    {
      "cell_type": "code",
      "source": [
        "def conv_1d(inp: ndarray,\n",
        "            param: ndarray) -> ndarray:\n",
        "\n",
        "    # assert correct dimensions\n",
        "    assert_dim(inp, 1)\n",
        "    assert_dim(param, 1)\n",
        "\n",
        "    # pad the input\n",
        "    param_len = param.shape[0]\n",
        "    param_mid = param_len // 2\n",
        "    inp_pad = _pad_1d(inp, param_mid)\n",
        "\n",
        "    # initialize the output\n",
        "    out = np.zeros(inp.shape)\n",
        "\n",
        "    # perform the 1d convolution\n",
        "    for o in range(out.shape[0]):\n",
        "        for p in range(param_len):\n",
        "            out[o] += param[p] * inp_pad[o+p]\n",
        "\n",
        "    # ensure shapes didn't change\n",
        "    assert_same_shape(inp, out)\n",
        "\n",
        "    return out"
      ],
      "metadata": {
        "id": "P3p8ijP0bUmu"
      },
      "execution_count": null,
      "outputs": []
    },
    {
      "cell_type": "code",
      "source": [
        "def conv_1d_sum(inp: ndarray,\n",
        "                param: ndarray) -> ndarray:\n",
        "    out = conv_1d(inp, param)\n",
        "    return np.sum(out)"
      ],
      "metadata": {
        "id": "MtSNHL2wbqLG"
      },
      "execution_count": null,
      "outputs": []
    },
    {
      "cell_type": "code",
      "source": [
        "conv_1d_sum(input_1d, param_1d)"
      ],
      "metadata": {
        "colab": {
          "base_uri": "https://localhost:8080/"
        },
        "id": "FIbpvgasbsvm",
        "outputId": "37fd8ab5-9989-4dc0-b6c9-18633c68efb7"
      },
      "execution_count": null,
      "outputs": [
        {
          "output_type": "execute_result",
          "data": {
            "text/plain": [
              "39.0"
            ]
          },
          "metadata": {},
          "execution_count": 9
        }
      ]
    },
    {
      "cell_type": "markdown",
      "source": [
        "**Testing Gradients**"
      ],
      "metadata": {
        "id": "z6BLpHQyb1VY"
      }
    },
    {
      "cell_type": "code",
      "source": [
        "np.random.seed(190220)\n",
        "print(np.random.randint(0, input_1d.shape[0]))\n",
        "print(np.random.randint(0, param_1d.shape[0]))"
      ],
      "metadata": {
        "colab": {
          "base_uri": "https://localhost:8080/"
        },
        "id": "IrFKLAwmbyAO",
        "outputId": "f0981373-6298-4b2b-bd68-7ce8ebfde302"
      },
      "execution_count": null,
      "outputs": [
        {
          "output_type": "stream",
          "name": "stdout",
          "text": [
            "4\n",
            "0\n"
          ]
        }
      ]
    },
    {
      "cell_type": "code",
      "source": [
        "np.random.seed(291831)\n",
        "print(np.random.randint(0, input_1d.shape[0]))\n",
        "print(np.random.randint(0, param_1d.shape[0]))"
      ],
      "metadata": {
        "colab": {
          "base_uri": "https://localhost:8080/"
        },
        "id": "KBs6a8IKcA4K",
        "outputId": "ac133b16-76a2-4e17-9dce-01b4c2c97027"
      },
      "execution_count": null,
      "outputs": [
        {
          "output_type": "stream",
          "name": "stdout",
          "text": [
            "1\n",
            "2\n"
          ]
        }
      ]
    },
    {
      "cell_type": "code",
      "source": [
        "input_1d_2 = np.array([1,2,3,4,6])\n",
        "param_1d = np.array([1,1,1])"
      ],
      "metadata": {
        "id": "K7KC9HJzcYXk"
      },
      "execution_count": null,
      "outputs": []
    },
    {
      "cell_type": "code",
      "source": [
        "print(conv_1d_sum(input_1d_2, param_1d) - conv_1d_sum(input_1d_2, param_1d))\n"
      ],
      "metadata": {
        "colab": {
          "base_uri": "https://localhost:8080/"
        },
        "id": "NpL633r7co54",
        "outputId": "916ff26f-9ba0-46cc-a5d0-fc4ad7f83741"
      },
      "execution_count": null,
      "outputs": [
        {
          "output_type": "stream",
          "name": "stdout",
          "text": [
            "0.0\n"
          ]
        }
      ]
    },
    {
      "cell_type": "code",
      "source": [
        "input_1d = np.array([1,2,3,4,5])\n",
        "param_1d_2 = np.array([2,1,1])"
      ],
      "metadata": {
        "id": "tV2fFFzAcqha"
      },
      "execution_count": null,
      "outputs": []
    },
    {
      "cell_type": "code",
      "source": [
        "print(conv_1d_sum(input_1d, param_1d_2) - conv_1d_sum(input_1d, param_1d))\n"
      ],
      "metadata": {
        "colab": {
          "base_uri": "https://localhost:8080/"
        },
        "id": "dXrzs1Wqcuf9",
        "outputId": "f6080e6b-c58b-4b74-b085-b426042b07b1"
      },
      "execution_count": null,
      "outputs": [
        {
          "output_type": "stream",
          "name": "stdout",
          "text": [
            "10.0\n"
          ]
        }
      ]
    },
    {
      "cell_type": "markdown",
      "source": [
        "**Gradients**"
      ],
      "metadata": {
        "id": "iWlQJe0Xc0Tf"
      }
    },
    {
      "cell_type": "code",
      "source": [
        "def _param_grad_1d(inp: ndarray,\n",
        "                   param: ndarray,\n",
        "                   output_grad: ndarray = None) -> ndarray:\n",
        "\n",
        "    param_len = param.shape[0]\n",
        "    param_mid = param_len // 2\n",
        "    input_pad = _pad_1d(inp, param_mid)\n",
        "\n",
        "    if output_grad is None:\n",
        "        output_grad = np.ones_like(inp)\n",
        "    else:\n",
        "        assert_same_shape(inp, output_grad)\n",
        "\n",
        "    # Zero padded 1 dimensional convolution\n",
        "    param_grad = np.zeros_like(param)\n",
        "    input_grad = np.zeros_like(inp)\n",
        "\n",
        "    for o in range(inp.shape[0]):\n",
        "        for p in range(param.shape[0]):\n",
        "            param_grad[p] += input_pad[o+p] * output_grad[o]\n",
        "\n",
        "    assert_same_shape(param_grad, param)\n",
        "\n",
        "    return param_grad"
      ],
      "metadata": {
        "id": "DAVyfhPFcwJn"
      },
      "execution_count": null,
      "outputs": []
    },
    {
      "cell_type": "code",
      "source": [
        "# import numpy as np\n",
        "\n",
        "# # Example input array\n",
        "# inp = np.array([1, 2, 3, 4, 5])\n",
        "\n",
        "# # Example parameter (weight) array\n",
        "# param = np.array([0.2, 0.5, 0.3])\n",
        "\n",
        "# # Optional output gradient array\n",
        "# output_grad = np.array([1, 1, 1, 1, 1])\n",
        "\n",
        "\n",
        "# # Call the function with the example data\n",
        "# param_grad = _param_grad_1d(inp, param, output_grad)\n",
        "# print(\"Parameter Gradient:\", param_grad)\n"
      ],
      "metadata": {
        "id": "txcbow2nc88f"
      },
      "execution_count": null,
      "outputs": []
    },
    {
      "cell_type": "code",
      "source": [
        "def _input_grad_1d(inp: ndarray,\n",
        "                   param: ndarray,\n",
        "                   output_grad: ndarray = None) -> ndarray:\n",
        "\n",
        "    param_len = param.shape[0]\n",
        "    param_mid = param_len // 2\n",
        "    inp_pad = _pad_1d(inp, param_mid)\n",
        "\n",
        "    if output_grad is None:\n",
        "        output_grad = np.ones_like(inp)\n",
        "    else:\n",
        "        assert_same_shape(inp, output_grad)\n",
        "\n",
        "    output_pad = _pad_1d(output_grad, param_mid)\n",
        "\n",
        "    # Zero padded 1 dimensional convolution\n",
        "    param_grad = np.zeros_like(param)\n",
        "    input_grad = np.zeros_like(inp)\n",
        "\n",
        "    for o in range(inp.shape[0]):\n",
        "        for f in range(param.shape[0]):\n",
        "            input_grad[o] += output_pad[o+param_len-f-1] * param[f]\n",
        "\n",
        "    assert_same_shape(param_grad, param)\n",
        "\n",
        "    return input_grad"
      ],
      "metadata": {
        "id": "96hrec4wdScM"
      },
      "execution_count": null,
      "outputs": []
    },
    {
      "cell_type": "code",
      "source": [
        "_input_grad_1d(input_1d, param_1d)\n"
      ],
      "metadata": {
        "colab": {
          "base_uri": "https://localhost:8080/"
        },
        "id": "_Ic2I_Ktjl4R",
        "outputId": "c53091b8-7fce-4739-bfb3-7e8ce640f0b1"
      },
      "execution_count": null,
      "outputs": [
        {
          "output_type": "execute_result",
          "data": {
            "text/plain": [
              "array([2, 3, 3, 3, 2])"
            ]
          },
          "metadata": {},
          "execution_count": 19
        }
      ]
    },
    {
      "cell_type": "code",
      "source": [
        "_param_grad_1d(input_1d, param_1d)"
      ],
      "metadata": {
        "colab": {
          "base_uri": "https://localhost:8080/"
        },
        "id": "YroFvm6Aj21A",
        "outputId": "fa670f8c-23d6-4a9d-d0c3-6eb25372964f"
      },
      "execution_count": null,
      "outputs": [
        {
          "output_type": "execute_result",
          "data": {
            "text/plain": [
              "array([10, 15, 14])"
            ]
          },
          "metadata": {},
          "execution_count": 20
        }
      ]
    },
    {
      "cell_type": "markdown",
      "source": [
        "**Batch Size of 2**"
      ],
      "metadata": {
        "id": "NWry_pZ5mhFu"
      }
    },
    {
      "cell_type": "markdown",
      "source": [
        "Pad"
      ],
      "metadata": {
        "id": "JWtqe4hzmn6D"
      }
    },
    {
      "cell_type": "code",
      "source": [
        "input_1d_batch = np.array([[0,1,2,3,4,5,6],\n",
        "                           [1,2,3,4,5,6,7]])"
      ],
      "metadata": {
        "id": "zYJmcApOkOLd"
      },
      "execution_count": null,
      "outputs": []
    },
    {
      "cell_type": "code",
      "source": [
        "\n",
        "def _pad_1d(inp: ndarray,\n",
        "            num: int) -> ndarray:\n",
        "    z = np.array([0])\n",
        "    z = np.repeat(z, num)\n",
        "    return np.concatenate([z, inp, z])"
      ],
      "metadata": {
        "id": "U-NXAuxpmpxd"
      },
      "execution_count": null,
      "outputs": []
    },
    {
      "cell_type": "code",
      "source": [
        "def _pad_1d_batch(inp: ndarray,\n",
        "                  num: int) -> ndarray:\n",
        "    outs = [_pad_1d(obs, num) for obs in inp]\n",
        "    return np.stack(outs)"
      ],
      "metadata": {
        "id": "uE7psagNmq7z"
      },
      "execution_count": null,
      "outputs": []
    },
    {
      "cell_type": "code",
      "source": [
        "_pad_1d_batch(input_1d_batch, 1)\n"
      ],
      "metadata": {
        "colab": {
          "base_uri": "https://localhost:8080/"
        },
        "id": "zaBTuMBJmtPL",
        "outputId": "92d60ada-34fa-4d71-c937-554f224f89de"
      },
      "execution_count": null,
      "outputs": [
        {
          "output_type": "execute_result",
          "data": {
            "text/plain": [
              "array([[0, 0, 1, 2, 3, 4, 5, 6, 0],\n",
              "       [0, 1, 2, 3, 4, 5, 6, 7, 0]])"
            ]
          },
          "metadata": {},
          "execution_count": 24
        }
      ]
    },
    {
      "cell_type": "markdown",
      "source": [
        "Forward"
      ],
      "metadata": {
        "id": "dYjI-Rnsmvnn"
      }
    },
    {
      "cell_type": "code",
      "source": [
        "\n",
        "def conv_1d_batch(inp: ndarray,\n",
        "                  param: ndarray) -> ndarray:\n",
        "\n",
        "    outs = [conv_1d(obs, param) for obs in inp]\n",
        "    return np.stack(outs)"
      ],
      "metadata": {
        "id": "dxPIV3c0muTL"
      },
      "execution_count": null,
      "outputs": []
    },
    {
      "cell_type": "code",
      "source": [
        "conv_1d_batch(input_1d_batch, param_1d)\n"
      ],
      "metadata": {
        "id": "_h2p3uWBmxna",
        "outputId": "9ae3505a-3c72-4b0d-ff13-9a98558aea29",
        "colab": {
          "base_uri": "https://localhost:8080/"
        }
      },
      "execution_count": null,
      "outputs": [
        {
          "output_type": "execute_result",
          "data": {
            "text/plain": [
              "array([[ 1.,  3.,  6.,  9., 12., 15., 11.],\n",
              "       [ 3.,  6.,  9., 12., 15., 18., 13.]])"
            ]
          },
          "metadata": {},
          "execution_count": 26
        }
      ]
    },
    {
      "cell_type": "markdown",
      "source": [
        "**Gradient**"
      ],
      "metadata": {
        "id": "di32vD-jbwq5"
      }
    },
    {
      "cell_type": "code",
      "source": [
        "def input_grad_1d_batch(inp: ndarray,\n",
        "                        param: ndarray) -> ndarray:\n",
        "\n",
        "    out = conv_1d_batch(inp, param)\n",
        "\n",
        "    out_grad = np.ones_like(out)\n",
        "\n",
        "    batch_size = out_grad.shape[0]\n",
        "\n",
        "    grads = [_input_grad_1d(inp[i], param, out_grad[i]) for i in range(batch_size)]\n",
        "\n",
        "    return np.stack(grads)"
      ],
      "metadata": {
        "id": "fh7CC6QWmzhU"
      },
      "execution_count": null,
      "outputs": []
    },
    {
      "cell_type": "code",
      "source": [
        "def param_grad_1d_batch(inp: ndarray,\n",
        "                        param: ndarray) -> ndarray:\n",
        "\n",
        "    output_grad = np.ones_like(inp)\n",
        "\n",
        "    inp_pad = _pad_1d_batch(inp, 1)\n",
        "    out_pad = _pad_1d_batch(inp, 1)\n",
        "\n",
        "    param_grad = np.zeros_like(param)\n",
        "\n",
        "    for i in range(inp.shape[0]):\n",
        "        for o in range(inp.shape[1]):\n",
        "            for p in range(param.shape[0]):\n",
        "                param_grad[p] += inp_pad[i][o+p] * output_grad[i][o]\n",
        "\n",
        "    return param_grad"
      ],
      "metadata": {
        "id": "dC2RkDB2b4u6"
      },
      "execution_count": null,
      "outputs": []
    },
    {
      "cell_type": "markdown",
      "source": [
        "**Checking gradients for conv_1d_batch**"
      ],
      "metadata": {
        "id": "1a6qguD3cKDV"
      }
    },
    {
      "cell_type": "code",
      "source": [
        "\n",
        "def conv_1d_batch_sum(inp: ndarray,\n",
        "                      fil: ndarray) -> ndarray:\n",
        "    out = conv_1d_batch(inp, fil)\n",
        "    return np.sum(out)"
      ],
      "metadata": {
        "id": "-Yx3LgQPb_gT"
      },
      "execution_count": null,
      "outputs": []
    },
    {
      "cell_type": "code",
      "source": [
        "conv_1d_batch_sum(input_1d_batch, param_1d)"
      ],
      "metadata": {
        "colab": {
          "base_uri": "https://localhost:8080/"
        },
        "id": "Y3MdgC2_cM9k",
        "outputId": "f61e9e6a-9d08-43d2-91fd-27c6fcc9c0be"
      },
      "execution_count": null,
      "outputs": [
        {
          "output_type": "execute_result",
          "data": {
            "text/plain": [
              "133.0"
            ]
          },
          "metadata": {},
          "execution_count": 29
        }
      ]
    },
    {
      "cell_type": "code",
      "source": [
        "print(np.random.randint(0, input_1d_batch.shape[0]))\n",
        "print(np.random.randint(0, input_1d_batch.shape[1]))"
      ],
      "metadata": {
        "colab": {
          "base_uri": "https://localhost:8080/"
        },
        "id": "GbR20muScOiL",
        "outputId": "b8999467-bf52-4ca3-eb5f-3abf8f0eb2e2"
      },
      "execution_count": null,
      "outputs": [
        {
          "output_type": "stream",
          "name": "stdout",
          "text": [
            "1\n",
            "5\n"
          ]
        }
      ]
    },
    {
      "cell_type": "code",
      "source": [
        "input_1d_batch_2 = input_1d_batch.copy()\n",
        "input_1d_batch_2[0][2] += 1\n",
        "conv_1d_batch_sum(input_1d_batch_2, param_1d) - conv_1d_batch_sum(input_1d_batch, param_1d)\n"
      ],
      "metadata": {
        "colab": {
          "base_uri": "https://localhost:8080/"
        },
        "id": "Xsxd8nr5cQ26",
        "outputId": "79d1de13-4568-4587-fdbc-b80462a7370a"
      },
      "execution_count": null,
      "outputs": [
        {
          "output_type": "execute_result",
          "data": {
            "text/plain": [
              "3.0"
            ]
          },
          "metadata": {},
          "execution_count": 31
        }
      ]
    },
    {
      "cell_type": "code",
      "source": [
        "input_grad_1d_batch(input_1d_batch, param_1d)\n"
      ],
      "metadata": {
        "colab": {
          "base_uri": "https://localhost:8080/"
        },
        "id": "imhyBbZGcUY7",
        "outputId": "442f8476-a997-4c94-ce47-d70b17657da1"
      },
      "execution_count": null,
      "outputs": [
        {
          "output_type": "execute_result",
          "data": {
            "text/plain": [
              "array([[2, 3, 3, 3, 3, 3, 2],\n",
              "       [2, 3, 3, 3, 3, 3, 2]])"
            ]
          },
          "metadata": {},
          "execution_count": 32
        }
      ]
    },
    {
      "cell_type": "code",
      "source": [
        "print(np.random.randint(0, param_1d.shape[0]))\n"
      ],
      "metadata": {
        "colab": {
          "base_uri": "https://localhost:8080/"
        },
        "id": "6jTfPmt4cXnQ",
        "outputId": "e2849950-7bb0-4dfe-b2a4-7654d09feb70"
      },
      "execution_count": null,
      "outputs": [
        {
          "output_type": "stream",
          "name": "stdout",
          "text": [
            "0\n"
          ]
        }
      ]
    },
    {
      "cell_type": "code",
      "source": [
        "\n",
        "param_1d_2 = param_1d.copy()\n",
        "param_1d_2[2] += 1\n",
        "conv_1d_batch_sum(input_1d_batch, param_1d_2) - conv_1d_batch_sum(input_1d_batch, param_1d)\n"
      ],
      "metadata": {
        "colab": {
          "base_uri": "https://localhost:8080/"
        },
        "id": "fnL6hAdQcY-E",
        "outputId": "d3ea52e5-6b01-46b5-8475-6b8da9d05d67"
      },
      "execution_count": null,
      "outputs": [
        {
          "output_type": "execute_result",
          "data": {
            "text/plain": [
              "48.0"
            ]
          },
          "metadata": {},
          "execution_count": 35
        }
      ]
    },
    {
      "cell_type": "code",
      "source": [
        "param_grad_1d_batch(input_1d_batch, param_1d)\n"
      ],
      "metadata": {
        "colab": {
          "base_uri": "https://localhost:8080/"
        },
        "id": "56478Q_lcasY",
        "outputId": "04274220-9984-43b7-f4e6-3e78eed6fe0f"
      },
      "execution_count": null,
      "outputs": [
        {
          "output_type": "execute_result",
          "data": {
            "text/plain": [
              "array([36, 49, 48])"
            ]
          },
          "metadata": {},
          "execution_count": 36
        }
      ]
    },
    {
      "cell_type": "markdown",
      "source": [
        "**2D Convolutions**"
      ],
      "metadata": {
        "id": "ZUK0AcFTcqWE"
      }
    },
    {
      "cell_type": "code",
      "source": [
        "imgs_2d_batch = np.random.randn(3, 28, 28)\n"
      ],
      "metadata": {
        "id": "ZooKXgbvcdEu"
      },
      "execution_count": null,
      "outputs": []
    },
    {
      "cell_type": "code",
      "source": [
        "param_2d = np.random.randn(3, 3)\n"
      ],
      "metadata": {
        "id": "hD6lZ8yjdfYw"
      },
      "execution_count": null,
      "outputs": []
    },
    {
      "cell_type": "markdown",
      "source": [
        "**Padding**"
      ],
      "metadata": {
        "id": "WZ2hkZJadh7v"
      }
    },
    {
      "cell_type": "code",
      "source": [
        "def _pad_2d(inp: ndarray,\n",
        "            num: int):\n",
        "    '''\n",
        "    Input is a 3 dimensional tensor, first dimension batch size\n",
        "    '''\n",
        "    outs = [_pad_2d_obs(obs, num) for obs in inp]\n",
        "\n",
        "    return np.stack(outs)"
      ],
      "metadata": {
        "id": "6pfl_UWhdgfk"
      },
      "execution_count": null,
      "outputs": []
    },
    {
      "cell_type": "code",
      "source": [
        "def _pad_2d_obs(inp: ndarray,\n",
        "                num: int):\n",
        "    '''\n",
        "    Input is a 2 dimensional, square, 2D Tensor\n",
        "    '''\n",
        "    inp_pad = _pad_1d_batch(inp, num)\n",
        "\n",
        "    other = np.zeros((num, inp.shape[0] + num * 2))\n",
        "\n",
        "    return np.concatenate([other, inp_pad, other])"
      ],
      "metadata": {
        "id": "qDVWqUgHdlkw"
      },
      "execution_count": null,
      "outputs": []
    },
    {
      "cell_type": "code",
      "source": [
        "_pad_2d(imgs_2d_batch, 1).shape\n"
      ],
      "metadata": {
        "colab": {
          "base_uri": "https://localhost:8080/"
        },
        "id": "OeinZrsadoJs",
        "outputId": "a19fcafa-18b1-47ea-fe45-bb9838ca584c"
      },
      "execution_count": null,
      "outputs": [
        {
          "output_type": "execute_result",
          "data": {
            "text/plain": [
              "(3, 30, 30)"
            ]
          },
          "metadata": {},
          "execution_count": 41
        }
      ]
    },
    {
      "cell_type": "markdown",
      "source": [
        "**Compute OUtput**"
      ],
      "metadata": {
        "id": "tyyT2UWdduK3"
      }
    },
    {
      "cell_type": "code",
      "source": [
        "def _compute_output_obs_2d(obs: ndarray,\n",
        "                           param: ndarray):\n",
        "    '''\n",
        "    Obs is a 2d square Tensor, so is param\n",
        "    '''\n",
        "    param_mid = param.shape[0] // 2\n",
        "\n",
        "    obs_pad = _pad_2d_obs(obs, param_mid)\n",
        "\n",
        "    out = np.zeros_like(obs)\n",
        "\n",
        "    for o_w in range(out.shape[0]):\n",
        "        for o_h in range(out.shape[1]):\n",
        "            for p_w in range(param.shape[0]):\n",
        "                for p_h in range(param.shape[1]):\n",
        "                    out[o_w][o_h] += param[p_w][p_h] * obs_pad[o_w+p_w][o_h+p_h]\n",
        "    return out"
      ],
      "metadata": {
        "id": "d72qNRK5ds3u"
      },
      "execution_count": null,
      "outputs": []
    },
    {
      "cell_type": "code",
      "source": [
        "def _compute_output_2d(img_batch: ndarray,\n",
        "                       param: ndarray):\n",
        "\n",
        "    assert_dim(img_batch, 3)\n",
        "\n",
        "    outs = [_compute_output_obs_2d(obs, param) for obs in img_batch]\n",
        "\n",
        "    return np.stack(outs)"
      ],
      "metadata": {
        "id": "M2fuTzWGdzZq"
      },
      "execution_count": null,
      "outputs": []
    },
    {
      "cell_type": "code",
      "source": [
        "_compute_output_2d(imgs_2d_batch, param_2d).shape\n"
      ],
      "metadata": {
        "colab": {
          "base_uri": "https://localhost:8080/"
        },
        "id": "QI7wq5Xbd57c",
        "outputId": "3b58cf40-b299-48c9-9e5a-491d74910452"
      },
      "execution_count": null,
      "outputs": [
        {
          "output_type": "execute_result",
          "data": {
            "text/plain": [
              "(3, 28, 28)"
            ]
          },
          "metadata": {},
          "execution_count": 44
        }
      ]
    },
    {
      "cell_type": "markdown",
      "source": [
        "**param grads**"
      ],
      "metadata": {
        "id": "9YgeDU-feA_B"
      }
    },
    {
      "cell_type": "code",
      "source": [
        "def _compute_grads_obs_2d(input_obs: ndarray,\n",
        "                          output_grad_obs: ndarray,\n",
        "                          param: ndarray) -> ndarray:\n",
        "    '''\n",
        "    input_obs: 2D Tensor representing the input observation\n",
        "    output_grad_obs: 2D Tensor representing the output gradient\n",
        "    param: 2D filter\n",
        "    '''\n",
        "\n",
        "    param_size = param.shape[0]\n",
        "    output_obs_pad = _pad_2d_obs(output_grad_obs, param_size // 2)\n",
        "    input_grad = np.zeros_like(input_obs)\n",
        "\n",
        "    for i_w in range(input_obs.shape[0]):\n",
        "        for i_h in range(input_obs.shape[1]):\n",
        "            for p_w in range(param_size):\n",
        "                for p_h in range(param_size):\n",
        "                    input_grad[i_w][i_h] += output_obs_pad[i_w+param_size-p_w-1][i_h+param_size-p_h-1] \\\n",
        "                    * param[p_w][p_h]\n",
        "\n",
        "    return input_grad\n",
        "\n",
        "def _compute_grads_2d(inp: ndarray,\n",
        "                      output_grad: ndarray,\n",
        "                      param: ndarray) -> ndarray:\n",
        "\n",
        "    grads = [_compute_grads_obs_2d(inp[i], output_grad[i], param) for i in range(output_grad.shape[0])]\n",
        "\n",
        "    return np.stack(grads)\n",
        "\n",
        "def _param_grad_2d(inp: ndarray,\n",
        "                   output_grad: ndarray,\n",
        "                   param: ndarray) -> ndarray:\n",
        "\n",
        "    param_size = param.shape[0]\n",
        "    inp_pad = _pad_2d(inp, param_size // 2)\n",
        "\n",
        "    param_grad = np.zeros_like(param)\n",
        "    img_shape = output_grad.shape[1:]\n",
        "\n",
        "    for i in range(inp.shape[0]):\n",
        "        for o_w in range(img_shape[0]):\n",
        "            for o_h in range(img_shape[1]):\n",
        "                for p_w in range(param_size):\n",
        "                    for p_h in range(param_size):\n",
        "                        param_grad[p_w][p_h] += inp_pad[i][o_w+p_w][o_h+p_h] \\\n",
        "                        * output_grad[i][o_w][o_h]\n",
        "    return param_grad"
      ],
      "metadata": {
        "id": "kXx1cylDd7Pg"
      },
      "execution_count": null,
      "outputs": []
    },
    {
      "cell_type": "code",
      "source": [
        "img_grads = _compute_grads_2d(imgs_2d_batch,\n",
        "                              np.ones_like(imgs_2d_batch),\n",
        "                              param_2d)"
      ],
      "metadata": {
        "id": "A_3UZzM7eGXU"
      },
      "execution_count": null,
      "outputs": []
    },
    {
      "cell_type": "code",
      "source": [
        "img_grads.shape\n"
      ],
      "metadata": {
        "id": "OXwPg-szeKPn",
        "outputId": "cd750bb8-9be9-4112-b1f3-b35d6e2ccb69",
        "colab": {
          "base_uri": "https://localhost:8080/"
        }
      },
      "execution_count": null,
      "outputs": [
        {
          "output_type": "execute_result",
          "data": {
            "text/plain": [
              "(3, 28, 28)"
            ]
          },
          "metadata": {},
          "execution_count": 47
        }
      ]
    },
    {
      "cell_type": "code",
      "source": [
        "\n",
        "param_grad = _param_grad_2d(imgs_2d_batch,\n",
        "                              np.ones_like(imgs_2d_batch),\n",
        "                              param_2d)\n",
        "param_grad.shape"
      ],
      "metadata": {
        "id": "aZC9r3ozeLkG",
        "outputId": "74b4600b-7438-44c7-ac91-abd01dd744ca",
        "colab": {
          "base_uri": "https://localhost:8080/"
        }
      },
      "execution_count": null,
      "outputs": [
        {
          "output_type": "execute_result",
          "data": {
            "text/plain": [
              "(3, 3)"
            ]
          },
          "metadata": {},
          "execution_count": 48
        }
      ]
    },
    {
      "cell_type": "code",
      "source": [],
      "metadata": {
        "id": "JnSOwZfpeMzG"
      },
      "execution_count": null,
      "outputs": []
    }
  ]
}